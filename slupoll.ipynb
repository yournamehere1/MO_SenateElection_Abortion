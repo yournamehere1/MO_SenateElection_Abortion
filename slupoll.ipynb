{
 "cells": [
  {
   "cell_type": "markdown",
   "metadata": {},
   "source": [
    "## Begin by loading all the tools needed for the project"
   ]
  },
  {
   "cell_type": "code",
   "execution_count": 2,
   "metadata": {},
   "outputs": [],
   "source": [
    "import pandas as pd\n",
    "import matplotlib.pyplot as plt"
   ]
  },
  {
   "cell_type": "markdown",
   "metadata": {},
   "source": [
    "## LOAD THE DATA: \n",
    "Next Step is loading in the data. I am choosing to load in data from SLU/YouGov's poll that surveyed 900 Missouri voters in 2022."
   ]
  },
  {
   "cell_type": "code",
   "execution_count": null,
   "metadata": {},
   "outputs": [],
   "source": [
    "## Load in data \n",
    "data = pd.read_csv(\"stlu0006_output.csv\")\n",
    "## Display Data and ensure it is loaded in properly\n",
    "data.head"
   ]
  },
  {
   "cell_type": "code",
   "execution_count": 89,
   "metadata": {},
   "outputs": [
    {
     "data": {
      "text/html": [
       "<div>\n",
       "<style scoped>\n",
       "    .dataframe tbody tr th:only-of-type {\n",
       "        vertical-align: middle;\n",
       "    }\n",
       "\n",
       "    .dataframe tbody tr th {\n",
       "        vertical-align: top;\n",
       "    }\n",
       "\n",
       "    .dataframe thead th {\n",
       "        text-align: right;\n",
       "    }\n",
       "</style>\n",
       "<table border=\"1\" class=\"dataframe\">\n",
       "  <thead>\n",
       "    <tr style=\"text-align: right;\">\n",
       "      <th></th>\n",
       "      <th>caseid</th>\n",
       "      <th>pid3</th>\n",
       "      <th>POLS002</th>\n",
       "      <th>POLS007</th>\n",
       "      <th>POLS003</th>\n",
       "      <th>POLS008</th>\n",
       "      <th>POLS026</th>\n",
       "      <th>POLS027</th>\n",
       "      <th>POLS028</th>\n",
       "      <th>POLS029</th>\n",
       "      <th>POLS030</th>\n",
       "      <th>POLS031</th>\n",
       "      <th>POLS032</th>\n",
       "      <th>POLS033</th>\n",
       "      <th>POLS034</th>\n",
       "      <th>agegroup</th>\n",
       "      <th>gender</th>\n",
       "      <th>race</th>\n",
       "    </tr>\n",
       "  </thead>\n",
       "  <tbody>\n",
       "    <tr>\n",
       "      <th>0</th>\n",
       "      <td>1909660223</td>\n",
       "      <td>3</td>\n",
       "      <td>3.0</td>\n",
       "      <td>2.0</td>\n",
       "      <td>3.0</td>\n",
       "      <td>1</td>\n",
       "      <td>1.0</td>\n",
       "      <td>1</td>\n",
       "      <td>1</td>\n",
       "      <td>1</td>\n",
       "      <td>1</td>\n",
       "      <td>1</td>\n",
       "      <td>2</td>\n",
       "      <td>2</td>\n",
       "      <td>2</td>\n",
       "      <td>2</td>\n",
       "      <td>2</td>\n",
       "      <td>1</td>\n",
       "    </tr>\n",
       "    <tr>\n",
       "      <th>1</th>\n",
       "      <td>1910356811</td>\n",
       "      <td>2</td>\n",
       "      <td>3.0</td>\n",
       "      <td>1.0</td>\n",
       "      <td>2.0</td>\n",
       "      <td>1</td>\n",
       "      <td>1.0</td>\n",
       "      <td>2</td>\n",
       "      <td>2</td>\n",
       "      <td>3</td>\n",
       "      <td>3</td>\n",
       "      <td>1</td>\n",
       "      <td>3</td>\n",
       "      <td>3</td>\n",
       "      <td>2</td>\n",
       "      <td>1</td>\n",
       "      <td>1</td>\n",
       "      <td>1</td>\n",
       "    </tr>\n",
       "    <tr>\n",
       "      <th>2</th>\n",
       "      <td>1910437187</td>\n",
       "      <td>3</td>\n",
       "      <td>NaN</td>\n",
       "      <td>NaN</td>\n",
       "      <td>NaN</td>\n",
       "      <td>1</td>\n",
       "      <td>NaN</td>\n",
       "      <td>2</td>\n",
       "      <td>2</td>\n",
       "      <td>1</td>\n",
       "      <td>1</td>\n",
       "      <td>1</td>\n",
       "      <td>2</td>\n",
       "      <td>2</td>\n",
       "      <td>2</td>\n",
       "      <td>2</td>\n",
       "      <td>1</td>\n",
       "      <td>5</td>\n",
       "    </tr>\n",
       "    <tr>\n",
       "      <th>3</th>\n",
       "      <td>1910463685</td>\n",
       "      <td>1</td>\n",
       "      <td>3.0</td>\n",
       "      <td>4.0</td>\n",
       "      <td>3.0</td>\n",
       "      <td>2</td>\n",
       "      <td>4.0</td>\n",
       "      <td>1</td>\n",
       "      <td>1</td>\n",
       "      <td>1</td>\n",
       "      <td>1</td>\n",
       "      <td>1</td>\n",
       "      <td>1</td>\n",
       "      <td>1</td>\n",
       "      <td>3</td>\n",
       "      <td>1</td>\n",
       "      <td>2</td>\n",
       "      <td>1</td>\n",
       "    </tr>\n",
       "    <tr>\n",
       "      <th>4</th>\n",
       "      <td>1910363699</td>\n",
       "      <td>2</td>\n",
       "      <td>NaN</td>\n",
       "      <td>NaN</td>\n",
       "      <td>NaN</td>\n",
       "      <td>1</td>\n",
       "      <td>NaN</td>\n",
       "      <td>1</td>\n",
       "      <td>1</td>\n",
       "      <td>1</td>\n",
       "      <td>1</td>\n",
       "      <td>1</td>\n",
       "      <td>2</td>\n",
       "      <td>1</td>\n",
       "      <td>2</td>\n",
       "      <td>1</td>\n",
       "      <td>2</td>\n",
       "      <td>1</td>\n",
       "    </tr>\n",
       "  </tbody>\n",
       "</table>\n",
       "</div>"
      ],
      "text/plain": [
       "       caseid  pid3  POLS002  POLS007  POLS003  POLS008  POLS026  POLS027  \\\n",
       "0  1909660223     3      3.0      2.0      3.0        1      1.0        1   \n",
       "1  1910356811     2      3.0      1.0      2.0        1      1.0        2   \n",
       "2  1910437187     3      NaN      NaN      NaN        1      NaN        2   \n",
       "3  1910463685     1      3.0      4.0      3.0        2      4.0        1   \n",
       "4  1910363699     2      NaN      NaN      NaN        1      NaN        1   \n",
       "\n",
       "   POLS028  POLS029  POLS030  POLS031  POLS032  POLS033  POLS034  agegroup  \\\n",
       "0        1        1        1        1        2        2        2         2   \n",
       "1        2        3        3        1        3        3        2         1   \n",
       "2        2        1        1        1        2        2        2         2   \n",
       "3        1        1        1        1        1        1        3         1   \n",
       "4        1        1        1        1        2        1        2         1   \n",
       "\n",
       "   gender  race  \n",
       "0       2     1  \n",
       "1       1     1  \n",
       "2       1     5  \n",
       "3       2     1  \n",
       "4       2     1  "
      ]
     },
     "execution_count": 89,
     "metadata": {},
     "output_type": "execute_result"
    }
   ],
   "source": [
    "## Isolate Data to the necessary data points as defined by the SLU CodeBook\n",
    "data = data[[\"caseid\", \"pid3\", \"POLS002\", \"POLS007\", \"POLS003\", \"POLS008\", \"POLS026\", \"POLS027\",\"POLS028\", \"POLS029\", \"POLS030\", \"POLS031\", \"POLS032\", \"POLS033\", \"POLS034\", \"agegroup\",\"gender\", \"race\"]]\n",
    "data.head()"
   ]
  },
  {
   "cell_type": "markdown",
   "metadata": {},
   "source": [
    "## PART 1: Isolate Data Along Party Lines\n",
    "- Step 1: Isolate data along party lines \n",
    "     - Do once for all the data "
   ]
  },
  {
   "cell_type": "code",
   "execution_count": 90,
   "metadata": {},
   "outputs": [],
   "source": [
    "##Isolate Data by party\n",
    "# (1 = Democrat), (2 = Republican), (3 = Independent)\n",
    "demData = data[(data[\"pid3\"] == 1)]\n",
    "repData = data[(data[\"pid3\"] == 2)]\n",
    "inData = data[(data[\"pid3\"] == 3)]"
   ]
  },
  {
   "cell_type": "markdown",
   "metadata": {},
   "source": [
    "## PART 2: Isolate By Question"
   ]
  },
  {
   "cell_type": "markdown",
   "metadata": {},
   "source": [
    "## 1. What is the approval of the US Supreme Court across party Lines?\n",
    "- Code is POLS007"
   ]
  },
  {
   "cell_type": "code",
   "execution_count": 91,
   "metadata": {},
   "outputs": [
    {
     "name": "stdout",
     "output_type": "stream",
     "text": [
      "4.0    97\n",
      "3.0    33\n",
      "2.0    12\n",
      "5.0     5\n",
      "1.0     4\n",
      "Name: POLS007, dtype: int64\n",
      "Percentage that Strongly Approve: 2.6490066225165565\n",
      "Percentage that Approve: 7.9470198675496695\n",
      "Percentage that Disapprove: 21.85430463576159\n",
      "Percentage that Strongly Disapprove: 64.23841059602648\n",
      "Percentage Not Sure: 3.3112582781456954\n"
     ]
    }
   ],
   "source": [
    "## Isolate Supreme Court approval by Party\n",
    "\n",
    "##DEM\n",
    "d = demData[\"POLS007\"]\n",
    "print(d.value_counts())\n",
    "total = 97 + 33 + 12 + 4 + 5\n",
    "# 1 Strongly Approve\n",
    "print(\"Percentage that Strongly Approve:\", 4/total*100)\n",
    "# 2 Approve\n",
    "print(\"Percentage that Approve:\", 12/total*100)\n",
    "# 3 Disapprove\n",
    "print(\"Percentage that Disapprove:\",33/total*100)\n",
    "# 4 Strongly Disaprove\n",
    "print(\"Percentage that Strongly Disapprove:\", 97/total*100)\n",
    "# 5 Not Sure\n",
    "print(\"Percentage Not Sure:\", 5/total*100)\n",
    "\n",
    "\n",
    "\n"
   ]
  },
  {
   "cell_type": "code",
   "execution_count": 61,
   "metadata": {},
   "outputs": [
    {
     "name": "stdout",
     "output_type": "stream",
     "text": [
      "2.0    95\n",
      "1.0    36\n",
      "3.0    23\n",
      "5.0    10\n",
      "4.0     8\n",
      "Name: POLS007, dtype: int64\n",
      "Percentage that Strongly Approve: 20.930232558139537\n",
      "Percentage that Approve: 55.23255813953488\n",
      "Percentage that Disapprove: 13.372093023255813\n",
      "Percentage that Strongly Disapprove: 4.651162790697675\n",
      "Percentage Not Sure: 5.813953488372093\n"
     ]
    }
   ],
   "source": [
    "##REP\n",
    "r = repData[\"POLS007\"]\n",
    "print(r.value_counts())\n",
    "total = 95 + 36 + 23 + 10 + 8\n",
    "# 1 Strongly Approve\n",
    "print(\"Percentage that Strongly Approve:\", 36/total*100)\n",
    "# 2 Approve\n",
    "print(\"Percentage that Approve:\", 95/total*100)\n",
    "# 3 Disapprove\n",
    "print(\"Percentage that Disapprove:\",23/total*100)\n",
    "# 4 Strongly Disaprove\n",
    "print(\"Percentage that Strongly Disapprove:\", 8/total*100)\n",
    "# 5 Not Sure\n",
    "print(\"Percentage Not Sure:\", 10/total*100)"
   ]
  },
  {
   "cell_type": "markdown",
   "metadata": {},
   "source": [
    "## 2.  What is the approval of the Missouri State Legislature across party Lines?\n",
    "- POLS003"
   ]
  },
  {
   "cell_type": "code",
   "execution_count": 93,
   "metadata": {},
   "outputs": [
    {
     "name": "stdout",
     "output_type": "stream",
     "text": [
      "4.0    73\n",
      "3.0    37\n",
      "2.0    23\n",
      "5.0    14\n",
      "1.0     4\n",
      "Name: POLS003, dtype: int64\n",
      "Percentage that Strongly Approve: 2.6490066225165565\n",
      "Percentage that Approve: 15.2317880794702\n",
      "Percentage that Disapprove: 24.503311258278146\n",
      "Percentage that Strongly Disapprove: 48.34437086092716\n",
      "Percentage Not Sure: 9.271523178807946\n"
     ]
    }
   ],
   "source": [
    "## Democrats\n",
    "d = demData[\"POLS003\"]\n",
    "print(d.value_counts())\n",
    "total = 73 + 37 + 23 + 14 + 4\n",
    "# 1 Strongly Approve\n",
    "print(\"Percentage that Strongly Approve:\", 4/total*100)\n",
    "# 2 Approve\n",
    "print(\"Percentage that Approve:\", 23/total*100)\n",
    "# 3 Disapprove\n",
    "print(\"Percentage that Disapprove:\",37/total*100)\n",
    "# 4 Strongly Disaprove\n",
    "print(\"Percentage that Strongly Disapprove:\", 73/total*100)\n",
    "# 5 Not Sure\n",
    "print(\"Percentage Not Sure:\", 14/total*100)\n"
   ]
  },
  {
   "cell_type": "code",
   "execution_count": 94,
   "metadata": {},
   "outputs": [
    {
     "name": "stdout",
     "output_type": "stream",
     "text": [
      "2.0    115\n",
      "3.0     19\n",
      "5.0     19\n",
      "1.0     16\n",
      "4.0      3\n",
      "Name: POLS003, dtype: int64\n",
      "Percentage that Strongly Approve: 9.30232558139535\n",
      "Percentage that Approve: 66.86046511627907\n",
      "Percentage that Disapprove: 11.046511627906977\n",
      "Percentage that Strongly Disapprove: 1.744186046511628\n",
      "Percentage Not Sure: 11.046511627906977\n"
     ]
    }
   ],
   "source": [
    "## Repub\n",
    "r = repData[\"POLS003\"]\n",
    "print(r.value_counts())\n",
    "total = 115 + 19 + 19 + 16 + 3\n",
    "# 1 Strongly Approve\n",
    "print(\"Percentage that Strongly Approve:\", 16/total*100)\n",
    "# 2 Approve\n",
    "print(\"Percentage that Approve:\", 115/total*100)\n",
    "# 3 Disapprove\n",
    "print(\"Percentage that Disapprove:\",19/total*100)\n",
    "# 4 Strongly Disaprove\n",
    "print(\"Percentage that Strongly Disapprove:\", 3/total*100)\n",
    "# 5 Not Sure\n",
    "print(\"Percentage Not Sure:\", 19/total*100)"
   ]
  },
  {
   "cell_type": "markdown",
   "metadata": {},
   "source": [
    "## 3. If election for Senator was today, who would you vote for?\n",
    "- POLS008\n"
   ]
  },
  {
   "cell_type": "code",
   "execution_count": 96,
   "metadata": {},
   "outputs": [
    {
     "name": "stdout",
     "output_type": "stream",
     "text": [
      "1    459\n",
      "2    358\n",
      "4     51\n",
      "3     32\n",
      "Name: POLS008, dtype: int64\n",
      "Percent Favored Schmitt 51.0\n",
      "Percent Favored Valentine 39.77777777777778\n",
      "Percent Favored Other 3.5555555555555554\n",
      "Percent Not Sure 5.666666666666666\n"
     ]
    }
   ],
   "source": [
    "tot = data[\"POLS008\"]\n",
    "print(tot.value_counts())\n",
    "total = 459 + 358 + 51 + 32\n",
    "# 1 Eric Schmitt\n",
    "print(\"Percent Favored Schmitt\",459/total*100)\n",
    "# 2 Trudy Busch Valentine\n",
    "print(\"Percent Favored Valentine\",358/total*100)\n",
    "# 3 Other\n",
    "print(\"Percent Favored Other\",32/total*100)\n",
    "# 4 Not Sure\n",
    "print(\"Percent Not Sure\",51/total*100)"
   ]
  },
  {
   "cell_type": "markdown",
   "metadata": {},
   "source": [
    "## 4. Do you agree with the Supreme Court Overuling Roe v. Wade?\n",
    " - POLS026"
   ]
  },
  {
   "cell_type": "code",
   "execution_count": 97,
   "metadata": {},
   "outputs": [
    {
     "name": "stdout",
     "output_type": "stream",
     "text": [
      "4.0    122\n",
      "3.0     12\n",
      "2.0      8\n",
      "1.0      5\n",
      "5.0      4\n",
      "Name: POLS026, dtype: int64\n",
      "Percentage that Strongly Agree: 3.3112582781456954\n",
      "Percentage that Agree: 5.298013245033113\n",
      "Percentage that Disagree: 7.9470198675496695\n",
      "Percentage that Strongly Disagree: 80.79470198675497\n",
      "Percentage Not Sure: 2.6490066225165565\n"
     ]
    }
   ],
   "source": [
    "d = demData[\"POLS026\"]\n",
    "print(d.value_counts())\n",
    "total = 122 + 12 + 8 + 5 + 4\n",
    "# 1 Strongly Approve\n",
    "print(\"Percentage that Strongly Agree:\", 5/total*100)\n",
    "# 2 Approve\n",
    "print(\"Percentage that Agree:\", 8/total*100)\n",
    "# 3 Disapprove\n",
    "print(\"Percentage that Disagree:\",12/total*100)\n",
    "# 4 Strongly Disaprove\n",
    "print(\"Percentage that Strongly Disagree:\", 122/total*100)\n",
    "# 5 Not Sure\n",
    "print(\"Percentage Not Sure:\", 4/total*100)"
   ]
  },
  {
   "cell_type": "code",
   "execution_count": 82,
   "metadata": {},
   "outputs": [
    {
     "name": "stdout",
     "output_type": "stream",
     "text": [
      "1.0    107\n",
      "2.0     28\n",
      "3.0     16\n",
      "5.0     11\n",
      "4.0     10\n",
      "Name: POLS026, dtype: int64\n",
      "Percentage that Strongly Agree: 62.2093023255814\n",
      "Percentage that Agree: 16.27906976744186\n",
      "Percentage that Disagree: 9.30232558139535\n",
      "Percentage that Strongly Disagree: 5.813953488372093\n",
      "Percentage Not Sure: 6.395348837209303\n"
     ]
    }
   ],
   "source": [
    "## REp\n",
    "r = repData[\"POLS026\"]\n",
    "print(r.value_counts())\n",
    "total = 107 + 28 + 16 + 11 + 10\n",
    "# 1 Strongly Approve\n",
    "print(\"Percentage that Strongly Agree:\", 107/total*100)\n",
    "# 2 Approve\n",
    "print(\"Percentage that Agree:\", 28/total*100)\n",
    "# 3 Disapprove\n",
    "print(\"Percentage that Disagree:\",16/total*100)\n",
    "# 4 Strongly Disaprove\n",
    "print(\"Percentage that Strongly Disagree:\", 10/total*100)\n",
    "# 5 Not Sure\n",
    "print(\"Percentage Not Sure:\", 11/total*100)"
   ]
  },
  {
   "cell_type": "markdown",
   "metadata": {},
   "source": [
    "## 5. Abortion should be legal in the first 8 weeks of the pregnancy\n",
    "- POLS027"
   ]
  },
  {
   "cell_type": "code",
   "execution_count": 98,
   "metadata": {},
   "outputs": [
    {
     "name": "stdout",
     "output_type": "stream",
     "text": [
      "1    257\n",
      "2     14\n",
      "3     11\n",
      "Name: POLS027, dtype: int64\n",
      "Percentage that Agree: 91.13475177304964\n",
      "Percentage that Disagree: 4.964539007092199\n",
      "Percentage Not Sure: 3.900709219858156\n"
     ]
    }
   ],
   "source": [
    "d = demData[\"POLS027\"]\n",
    "print(d.value_counts())\n",
    "total = 257 + 14 + 11\n",
    "# 1 Agree\n",
    "print(\"Percentage that Agree:\", 257/total*100)\n",
    "# 2 Disagree\n",
    "print(\"Percentage that Disagree:\",14/total*100)\n",
    "# 3 not sure\n",
    "print(\"Percentage Not Sure:\",11/total*100)\n"
   ]
  },
  {
   "cell_type": "code",
   "execution_count": 99,
   "metadata": {},
   "outputs": [
    {
     "name": "stdout",
     "output_type": "stream",
     "text": [
      "2    200\n",
      "1    107\n",
      "3     43\n",
      "Name: POLS027, dtype: int64\n",
      "Percentage that Agree: 30.571428571428573\n",
      "Percentage that Disagree: 57.14285714285714\n",
      "Percentage Not Sure: 12.285714285714286\n"
     ]
    }
   ],
   "source": [
    "r = repData[\"POLS027\"]\n",
    "print(r.value_counts())\n",
    "total = 200 + 107 +43\n",
    "# 1 Agree\n",
    "print(\"Percentage that Agree:\", 107/total*100)\n",
    "# 2 Disagree\n",
    "print(\"Percentage that Disagree:\",200/total*100)\n",
    "# 3 Not Sure\n",
    "print(\"Percentage Not Sure:\",43/total*100)"
   ]
  },
  {
   "cell_type": "markdown",
   "metadata": {},
   "source": [
    "## 6. Abortion should be legally attainable in cases of rape\n",
    "- POLS029"
   ]
  },
  {
   "cell_type": "code",
   "execution_count": 101,
   "metadata": {},
   "outputs": [
    {
     "name": "stdout",
     "output_type": "stream",
     "text": [
      "1    266\n",
      "2     10\n",
      "3      6\n",
      "Name: POLS029, dtype: int64\n",
      "Percentage that Agree: 94.32624113475178\n",
      "Percentage that Disagree: 3.546099290780142\n",
      "Percentage Not Sure: 2.127659574468085\n"
     ]
    }
   ],
   "source": [
    "# Dems\n",
    "d = demData[\"POLS029\"]\n",
    "print(d.value_counts())\n",
    "total = 266 + 10 + 6\n",
    "# 1 Agree\n",
    "print(\"Percentage that Agree:\", 266/total*100)\n",
    "# 2 Disagree\n",
    "print(\"Percentage that Disagree:\",10/total*100)\n",
    "# 3 Not Sure\n",
    "print(\"Percentage Not Sure:\",6/total*100)"
   ]
  },
  {
   "cell_type": "code",
   "execution_count": 103,
   "metadata": {},
   "outputs": [
    {
     "name": "stdout",
     "output_type": "stream",
     "text": [
      "1    206\n",
      "2     85\n",
      "3     59\n",
      "Name: POLS029, dtype: int64\n",
      "Percentage that Agree: 58.857142857142854\n",
      "Percentage that Disagree: 24.571428571428573\n",
      "Percentage Not Sure: 16.857142857142858\n"
     ]
    }
   ],
   "source": [
    "# Rep\n",
    "r = repData[\"POLS029\"]\n",
    "print(r.value_counts())\n",
    "total = 206 + 85 + 59\n",
    "# 1 Agree\n",
    "print(\"Percentage that Agree:\", 206/total*100)\n",
    "# 2 Disagree\n",
    "print(\"Percentage that Disagree:\",86/total*100)\n",
    "# 3 Not Sure\n",
    "print(\"Percentage Not Sure:\",59/total*100)\n"
   ]
  },
  {
   "cell_type": "markdown",
   "metadata": {},
   "source": [
    "## 7. Abortion should be legally attainable in cases of incest\n",
    "- POLS030"
   ]
  },
  {
   "cell_type": "code",
   "execution_count": 105,
   "metadata": {},
   "outputs": [
    {
     "name": "stdout",
     "output_type": "stream",
     "text": [
      "1    269\n",
      "2      9\n",
      "3      4\n",
      "Name: POLS030, dtype: int64\n",
      "Percentage that Agree: 95.39007092198581\n",
      "Percentage that Disagree: 3.1914893617021276\n",
      "Percentage Not Sure: 1.4184397163120568\n"
     ]
    }
   ],
   "source": [
    "# Dems\n",
    "d = demData[\"POLS030\"]\n",
    "print(d.value_counts())\n",
    "total = 269 + 9 + 4\n",
    "# 1 Agree\n",
    "print(\"Percentage that Agree:\", 269/total*100)\n",
    "# 2 Disagree\n",
    "print(\"Percentage that Disagree:\",9/total*100)\n",
    "# 3 Not Sure\n",
    "print(\"Percentage Not Sure:\",4/total*100)\n"
   ]
  },
  {
   "cell_type": "code",
   "execution_count": 108,
   "metadata": {},
   "outputs": [
    {
     "name": "stdout",
     "output_type": "stream",
     "text": [
      "1    221\n",
      "2     74\n",
      "3     55\n",
      "Name: POLS030, dtype: int64\n",
      "Percentage that Agree: 63.142857142857146\n",
      "Percentage that Disagree: 21.142857142857142\n",
      "Percentage Not Sure: 15.714285714285714\n"
     ]
    }
   ],
   "source": [
    "# Rep\n",
    "r = repData[\"POLS030\"]\n",
    "print(r.value_counts())\n",
    "total = 221 + 74 + 55\n",
    "# 1 Agree\n",
    "print(\"Percentage that Agree:\", 221/total*100)\n",
    "# 2 Disagree\n",
    "print(\"Percentage that Disagree:\",74/total*100)\n",
    "# 3 Not Sure\n",
    "print(\"Percentage Not Sure:\",55/total*100)"
   ]
  }
 ],
 "metadata": {
  "kernelspec": {
   "display_name": "Python 3.10.2 64-bit",
   "language": "python",
   "name": "python3"
  },
  "language_info": {
   "codemirror_mode": {
    "name": "ipython",
    "version": 3
   },
   "file_extension": ".py",
   "mimetype": "text/x-python",
   "name": "python",
   "nbconvert_exporter": "python",
   "pygments_lexer": "ipython3",
   "version": "3.10.2"
  },
  "orig_nbformat": 4,
  "vscode": {
   "interpreter": {
    "hash": "aee8b7b246df8f9039afb4144a1f6fd8d2ca17a180786b69acc140d282b71a49"
   }
  }
 },
 "nbformat": 4,
 "nbformat_minor": 2
}
