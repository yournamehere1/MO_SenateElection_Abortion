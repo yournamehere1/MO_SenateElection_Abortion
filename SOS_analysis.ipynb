{
 "cells": [
  {
   "cell_type": "markdown",
   "metadata": {},
   "source": [
    "Begin by loading all the tools needed for the project"
   ]
  },
  {
   "cell_type": "code",
   "execution_count": 2,
   "metadata": {},
   "outputs": [],
   "source": [
    "import pandas as pd\n",
    "import matplotlib.pyplot as plt"
   ]
  },
  {
   "cell_type": "markdown",
   "metadata": {},
   "source": [
    "## LOAD THE DATA: \n",
    "Next Step is loading in the data. I am choosing to load in data from the Missouri Secretary of State website that provides offical election results from the State of Missouri Primary Election on August 02, 2022. I pulled data from the MO SOS website and created a csv file using Microsoft Excel in order to load properly."
   ]
  },
  {
   "cell_type": "code",
   "execution_count": 12,
   "metadata": {},
   "outputs": [
    {
     "data": {
      "text/plain": [
       "<bound method NDFrame.head of           Office               Candidate Name       Party   Votes  % of Votes\n",
       "0   U.S. Senator              Patrick A Lewis  Republican    6085     0.00928\n",
       "1   U.S. Senator                 Eric Schmitt  Republican  299282     0.45645\n",
       "2   U.S. Senator                   Billy Long  Republican   32603     0.04972\n",
       "3   U.S. Senator                Eric Greitens  Republican  124155     0.18935\n",
       "4   U.S. Senator              Bernie Mowinski  Republican    1602     0.00244\n",
       "5   U.S. Senator                 C.W. Gardner  Republican    2044     0.00312\n",
       "6   U.S. Senator                Deshon Porter  Republican    1574     0.00240\n",
       "7   U.S. Senator               Vicky Hartzler  Republican  144903     0.22100\n",
       "8   U.S. Senator                    Dave Sims  Republican    1949     0.00297\n",
       "9   U.S. Senator               Mark McCloskey  Republican   19540     0.02980\n",
       "10  U.S. Senator                 Eric McElroy  Republican    2805     0.00428\n",
       "11  U.S. Senator           Dennis Lee Chilton  Republican     755     0.00115\n",
       "12  U.S. Senator                 Robert Allen  Republican    2111     0.00322\n",
       "13  U.S. Senator                  Dave Schatz  Republican    7509     0.01145\n",
       "14  U.S. Senator             Hartford Tunnell  Republican     637     0.00097\n",
       "15  U.S. Senator            Kevin C. Schepers  Republican     681     0.00104\n",
       "16  U.S. Senator                Rickey Joiner  Republican    1084     0.00165\n",
       "17  U.S. Senator                 Robert Olson  Republican    1081     0.00165\n",
       "18  U.S. Senator   Russel Pealer Breyfogle Jr  Republican     685     0.00104\n",
       "19  U.S. Senator  Darrell Leon McClanahan III  Republican    1139     0.00174\n",
       "20  U.S. Senator             Curtis D. Vaughn  Republican    3451     0.00526\n",
       "21  U.S. Senator                  Lewis Rolen  Democratic    5247     0.01425\n",
       "22  U.S. Senator                    Gena Ross  Democratic    8749     0.02376\n",
       "23  U.S. Senator          Carla Coffee Wright  Democratic   14438     0.03921\n",
       "24  U.S. Senator                   Josh Shipp  Democratic    3334     0.00905\n",
       "25  U.S. Senator                Spencer Toder  Democratic   17465     0.04743\n",
       "26  U.S. Senator                  Lucas Kunce  Democratic  141203     0.38344\n",
       "27  U.S. Senator                  Jewel Kelly  Democratic    6464     0.01755\n",
       "28  U.S. Senator       Clarence (Clay) Taylor  Democratic    3322     0.00902\n",
       "29  U.S. Senator                    Pat Kelly  Democratic    5002     0.01358\n",
       "30  U.S. Senator        Trudy Busch Valentine  Democratic  158957     0.43165\n",
       "31  U.S. Senator  Ronald (Ron) William Harris  Democratic    4074     0.01106>"
      ]
     },
     "execution_count": 12,
     "metadata": {},
     "output_type": "execute_result"
    }
   ],
   "source": [
    "## Load in data -- MAKES SURE TO UPDATE PATHNAME BEFORE UPLOADING\n",
    "data = pd.read_csv(\"/Users/yohanesmulat/Desktop/Missouri Abortion/MO_SOS_Data.csv\")\n",
    "## Display Data and ensure it is loaded in properly\n",
    "data.head"
   ]
  },
  {
   "cell_type": "markdown",
   "metadata": {},
   "source": [
    "## PART 1: ISOLATE DATA\n",
    " - First, I want to Isolate Republican Data\n",
    " - Second, I want to find out who are the top 3 candidates\n",
    " - Finally, I want to display the top 3 candidates Number of Votes"
   ]
  },
  {
   "cell_type": "code",
   "execution_count": 17,
   "metadata": {},
   "outputs": [
    {
     "data": {
      "text/plain": [
       "<bound method NDFrame.head of           Office               Candidate Name       Party   Votes  % of Votes\n",
       "0   U.S. Senator              Patrick A Lewis  Republican    6085     0.00928\n",
       "1   U.S. Senator                 Eric Schmitt  Republican  299282     0.45645\n",
       "2   U.S. Senator                   Billy Long  Republican   32603     0.04972\n",
       "3   U.S. Senator                Eric Greitens  Republican  124155     0.18935\n",
       "4   U.S. Senator              Bernie Mowinski  Republican    1602     0.00244\n",
       "5   U.S. Senator                 C.W. Gardner  Republican    2044     0.00312\n",
       "6   U.S. Senator                Deshon Porter  Republican    1574     0.00240\n",
       "7   U.S. Senator               Vicky Hartzler  Republican  144903     0.22100\n",
       "8   U.S. Senator                    Dave Sims  Republican    1949     0.00297\n",
       "9   U.S. Senator               Mark McCloskey  Republican   19540     0.02980\n",
       "10  U.S. Senator                 Eric McElroy  Republican    2805     0.00428\n",
       "11  U.S. Senator           Dennis Lee Chilton  Republican     755     0.00115\n",
       "12  U.S. Senator                 Robert Allen  Republican    2111     0.00322\n",
       "13  U.S. Senator                  Dave Schatz  Republican    7509     0.01145\n",
       "14  U.S. Senator             Hartford Tunnell  Republican     637     0.00097\n",
       "15  U.S. Senator            Kevin C. Schepers  Republican     681     0.00104\n",
       "16  U.S. Senator                Rickey Joiner  Republican    1084     0.00165\n",
       "17  U.S. Senator                 Robert Olson  Republican    1081     0.00165\n",
       "18  U.S. Senator   Russel Pealer Breyfogle Jr  Republican     685     0.00104\n",
       "19  U.S. Senator  Darrell Leon McClanahan III  Republican    1139     0.00174\n",
       "20  U.S. Senator             Curtis D. Vaughn  Republican    3451     0.00526>"
      ]
     },
     "execution_count": 17,
     "metadata": {},
     "output_type": "execute_result"
    }
   ],
   "source": [
    "## 1. Isolate Republican Data\n",
    "repubData = data[data[\"Party\"].str.contains(\"Republican\")]\n",
    "repubData.head"
   ]
  },
  {
   "cell_type": "code",
   "execution_count": 22,
   "metadata": {},
   "outputs": [
    {
     "data": {
      "text/plain": [
       "<bound method NDFrame.head of          Office  Candidate Name       Party   Votes  % of Votes\n",
       "1  U.S. Senator    Eric Schmitt  Republican  299282     0.45645\n",
       "7  U.S. Senator  Vicky Hartzler  Republican  144903     0.22100\n",
       "3  U.S. Senator   Eric Greitens  Republican  124155     0.18935>"
      ]
     },
     "execution_count": 22,
     "metadata": {},
     "output_type": "execute_result"
    }
   ],
   "source": [
    "## 2. Identify the top 3 Republican candidates\n",
    "r3 = repubData.nlargest(n=3, columns=[\"Votes\"])\n",
    "\n",
    "r3.head"
   ]
  },
  {
   "cell_type": "code",
   "execution_count": 36,
   "metadata": {},
   "outputs": [
    {
     "data": {
      "text/plain": [
       "<function matplotlib.pyplot.show(close=None, block=None)>"
      ]
     },
     "execution_count": 36,
     "metadata": {},
     "output_type": "execute_result"
    },
    {
     "data": {
      "image/png": "[encoded data removed]",
      "text/plain": [
       "<Figure size 432x288 with 1 Axes>"
      ]
     },
     "metadata": {
      "needs_background": "light"
     },
     "output_type": "display_data"
    }
   ],
   "source": [
    "## 3. Create a bar graph to see the difference in votes between the 3 candidates\n",
    "\n",
    "df = pd.DataFrame(r3, columns= [\"Candidate Name\", \"Votes\"])\n",
    "plt.bar(df[\"Candidate Name\"], df[\"Votes\"])\n",
    "plt.title(\"Top 3 Republican Candidates\")\n",
    "plt.xlabel(\"Candidate Name\", fontsize=14)\n",
    "plt.ylabel(\"Number of Votes\", fontsize=14)\n",
    "plt.show"
   ]
  },
  {
   "cell_type": "markdown",
   "metadata": {},
   "source": [
    "## PART 2: Isolate Democrat Data\n",
    " - First, I want to Isolate Democrat Data\n",
    " - Second, I want to find out who are the top 3 candidates\n",
    " - Finally, I want to display the top 3 candidates % of Votes"
   ]
  },
  {
   "cell_type": "code",
   "execution_count": 29,
   "metadata": {},
   "outputs": [
    {
     "data": {
      "text/plain": [
       "<bound method NDFrame.head of           Office               Candidate Name       Party   Votes  % of Votes\n",
       "21  U.S. Senator                  Lewis Rolen  Democratic    5247     0.01425\n",
       "22  U.S. Senator                    Gena Ross  Democratic    8749     0.02376\n",
       "23  U.S. Senator          Carla Coffee Wright  Democratic   14438     0.03921\n",
       "24  U.S. Senator                   Josh Shipp  Democratic    3334     0.00905\n",
       "25  U.S. Senator                Spencer Toder  Democratic   17465     0.04743\n",
       "26  U.S. Senator                  Lucas Kunce  Democratic  141203     0.38344\n",
       "27  U.S. Senator                  Jewel Kelly  Democratic    6464     0.01755\n",
       "28  U.S. Senator       Clarence (Clay) Taylor  Democratic    3322     0.00902\n",
       "29  U.S. Senator                    Pat Kelly  Democratic    5002     0.01358\n",
       "30  U.S. Senator        Trudy Busch Valentine  Democratic  158957     0.43165\n",
       "31  U.S. Senator  Ronald (Ron) William Harris  Democratic    4074     0.01106>"
      ]
     },
     "execution_count": 29,
     "metadata": {},
     "output_type": "execute_result"
    }
   ],
   "source": [
    "## 1. Isolate Democrat Data\n",
    "demData = data[data[\"Party\"].str.contains(\"Democratic\")]\n",
    "demData.head"
   ]
  },
  {
   "cell_type": "code",
   "execution_count": 30,
   "metadata": {},
   "outputs": [
    {
     "data": {
      "text/plain": [
       "<bound method NDFrame.head of           Office         Candidate Name       Party   Votes  % of Votes\n",
       "30  U.S. Senator  Trudy Busch Valentine  Democratic  158957     0.43165\n",
       "26  U.S. Senator            Lucas Kunce  Democratic  141203     0.38344\n",
       "25  U.S. Senator          Spencer Toder  Democratic   17465     0.04743>"
      ]
     },
     "execution_count": 30,
     "metadata": {},
     "output_type": "execute_result"
    }
   ],
   "source": [
    "## 2. Identify the top 3 candidates\n",
    "d3 = demData.nlargest(n=3, columns=[\"Votes\"])\n",
    "\n",
    "d3.head"
   ]
  },
  {
   "cell_type": "code",
   "execution_count": 31,
   "metadata": {},
   "outputs": [
    {
     "data": {
      "text/plain": [
       "<function matplotlib.pyplot.show(close=None, block=None)>"
      ]
     },
     "execution_count": 31,
     "metadata": {},
     "output_type": "execute_result"
    },
    {
     "data": {
      "image/png": "[encoded data removed]",
      "text/plain": [
       "<Figure size 432x288 with 1 Axes>"
      ]
     },
     "metadata": {
      "needs_background": "light"
     },
     "output_type": "display_data"
    }
   ],
   "source": [
    "df = pd.DataFrame(d3, columns= [\"Candidate Name\", \"Votes\"])\n",
    "plt.bar(df[\"Candidate Name\"], df[\"Votes\"])\n",
    "plt.title(\"Top 3 Democratic Candidates\")\n",
    "plt.xlabel(\"Candidate Name\", fontsize=14)\n",
    "plt.ylabel(\"Number of Votes\", fontsize=14)\n",
    "plt.show"
   ]
  },
  {
   "cell_type": "markdown",
   "metadata": {},
   "source": [
    "## PART 3: Compare Party Nominees\n",
    "    - First, going to isolate data by who are the two candidates with the highest number of votes. I know data should display Eric Schmitt and Trudy Busch Valentine.\n",
    "    - Data should show me the difference in the number of votes and their percentage of votes within their party."
   ]
  },
  {
   "cell_type": "code",
   "execution_count": 41,
   "metadata": {},
   "outputs": [
    {
     "name": "stdout",
     "output_type": "stream",
     "text": [
      "<bound method NDFrame.head of           Office         Candidate Name       Party   Votes  % of Votes\n",
      "1   U.S. Senator           Eric Schmitt  Republican  299282     0.45645\n",
      "30  U.S. Senator  Trudy Busch Valentine  Democratic  158957     0.43165>\n",
      "140325\n",
      "0.024800000000000044\n"
     ]
    }
   ],
   "source": [
    "## Find two largest number of votes\n",
    "nominees = data.nlargest(n=2, columns=[\"Votes\"])\n",
    "## Display\n",
    "print(nominees.head)\n",
    "## Calculate Differences\n",
    "diff = 299282 - 158957\n",
    "diff2 = (0.45645 - 0.43165)\n",
    "print(diff)\n",
    "print(diff2)\n",
    "## While there is a difference of over 140,000 votes and Schmitt as the leader,\n",
    "## there is only a 2.5% difference in percentage of party votes.\n"
   ]
  }
 ],
 "metadata": {
  "kernelspec": {
   "display_name": "Python 3.10.2 64-bit",
   "language": "python",
   "name": "python3"
  },
  "language_info": {
   "codemirror_mode": {
    "name": "ipython",
    "version": 3
   },
   "file_extension": ".py",
   "mimetype": "text/x-python",
   "name": "python",
   "nbconvert_exporter": "python",
   "pygments_lexer": "ipython3",
   "version": "3.10.2"
  },
  "orig_nbformat": 4,
  "vscode": {
   "interpreter": {
    "hash": "aee8b7b246df8f9039afb4144a1f6fd8d2ca17a180786b69acc140d282b71a49"
   }
  }
 },
 "nbformat": 4,
 "nbformat_minor": 2
}
